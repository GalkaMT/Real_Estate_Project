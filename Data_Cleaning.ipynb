{
  "nbformat": 4,
  "nbformat_minor": 0,
  "metadata": {
    "colab": {
      "provenance": []
    },
    "kernelspec": {
      "name": "python3",
      "display_name": "Python 3"
    },
    "language_info": {
      "name": "python"
    }
  },
  "cells": [
    {
      "cell_type": "code",
      "execution_count": 21,
      "metadata": {
        "id": "ZVtybcSWaNOq"
      },
      "outputs": [],
      "source": [
        "import pandas as pd \n",
        "import re "
      ]
    },
    {
      "cell_type": "code",
      "source": [
        "url = 'https://drive.google.com/file/d/130KYOX8O4wrP_T8vdz2GfvJRQ03ONmE7/view?usp=share_link'\n",
        "path = 'https://drive.google.com/uc?export=download&id='+url.split('/')[-2]\n",
        "df = pd.read_csv(path, index_col =[0])\n",
        "df.head(2)"
      ],
      "metadata": {
        "id": "tWRhNlD0akm6",
        "outputId": "7d040d79-08c7-4a97-e9b2-285b578b9215",
        "colab": {
          "base_uri": "https://localhost:8080/",
          "height": 413
        }
      },
      "execution_count": 22,
      "outputs": [
        {
          "output_type": "execute_result",
          "data": {
            "text/plain": [
              "   ID  объявления Количество комнат       Тип                         Метро  \\\n",
              "0       271271157                 4  Квартира  м. Смоленская (9 мин пешком)   \n",
              "1       271634126                 4  Квартира  м. Смоленская (8 мин пешком)   \n",
              "\n",
              "                           Адрес      Площадь, м2                        Дом  \\\n",
              "0  Москва, улица Новый Арбат, 27       200.0/20.0           5/16, Монолитный   \n",
              "1  Москва, улица Новый Арбат, 27  198.0/95.0/18.0  5/16, Монолитно-кирпичный   \n",
              "\n",
              "    Парковка                                               Цена      Телефоны  \\\n",
              "0  подземная  500000.0 руб./ За месяц, Залог - 500000 руб., ...  +79166369231   \n",
              "1  подземная  500000.0 руб./ За месяц, Залог - 500000 руб., ...  +79850608590   \n",
              "\n",
              "   ...             Окна                          Санузел  \\\n",
              "0  ...              NaN                              NaN   \n",
              "1  ...  На улицу и двор  Совмещенный (2), Раздельный (1)   \n",
              "\n",
              "            Можно с детьми/животными  \\\n",
              "0  Можно с детьми, Можно с животными   \n",
              "1                     Можно с детьми   \n",
              "\n",
              "                                       Дополнительно        Название ЖК  \\\n",
              "0  Мебель в комнатах, Мебель на кухне, Ванна, Душ...  Новый Арбат, 2010   \n",
              "1  Мебель в комнатах, Мебель на кухне, Ванна, Душ...        Новый Арбат   \n",
              "\n",
              "  Серия дома Высота потолков, м                Лифт Мусоропровод  \\\n",
              "0        NaN                3.0  Пасс (4), Груз (1)           Да   \n",
              "1        NaN                3.5  Пасс (1), Груз (1)          Нет   \n",
              "\n",
              "                      Ссылка на объявление  \n",
              "0  https://www.cian.ru/rent/flat/271271157  \n",
              "1  https://www.cian.ru/rent/flat/271634126  \n",
              "\n",
              "[2 rows x 24 columns]"
            ],
            "text/html": [
              "\n",
              "  <div id=\"df-509eeca9-a810-4064-880c-07d467cd47f1\">\n",
              "    <div class=\"colab-df-container\">\n",
              "      <div>\n",
              "<style scoped>\n",
              "    .dataframe tbody tr th:only-of-type {\n",
              "        vertical-align: middle;\n",
              "    }\n",
              "\n",
              "    .dataframe tbody tr th {\n",
              "        vertical-align: top;\n",
              "    }\n",
              "\n",
              "    .dataframe thead th {\n",
              "        text-align: right;\n",
              "    }\n",
              "</style>\n",
              "<table border=\"1\" class=\"dataframe\">\n",
              "  <thead>\n",
              "    <tr style=\"text-align: right;\">\n",
              "      <th></th>\n",
              "      <th>ID  объявления</th>\n",
              "      <th>Количество комнат</th>\n",
              "      <th>Тип</th>\n",
              "      <th>Метро</th>\n",
              "      <th>Адрес</th>\n",
              "      <th>Площадь, м2</th>\n",
              "      <th>Дом</th>\n",
              "      <th>Парковка</th>\n",
              "      <th>Цена</th>\n",
              "      <th>Телефоны</th>\n",
              "      <th>...</th>\n",
              "      <th>Окна</th>\n",
              "      <th>Санузел</th>\n",
              "      <th>Можно с детьми/животными</th>\n",
              "      <th>Дополнительно</th>\n",
              "      <th>Название ЖК</th>\n",
              "      <th>Серия дома</th>\n",
              "      <th>Высота потолков, м</th>\n",
              "      <th>Лифт</th>\n",
              "      <th>Мусоропровод</th>\n",
              "      <th>Ссылка на объявление</th>\n",
              "    </tr>\n",
              "  </thead>\n",
              "  <tbody>\n",
              "    <tr>\n",
              "      <th>0</th>\n",
              "      <td>271271157</td>\n",
              "      <td>4</td>\n",
              "      <td>Квартира</td>\n",
              "      <td>м. Смоленская (9 мин пешком)</td>\n",
              "      <td>Москва, улица Новый Арбат, 27</td>\n",
              "      <td>200.0/20.0</td>\n",
              "      <td>5/16, Монолитный</td>\n",
              "      <td>подземная</td>\n",
              "      <td>500000.0 руб./ За месяц, Залог - 500000 руб., ...</td>\n",
              "      <td>+79166369231</td>\n",
              "      <td>...</td>\n",
              "      <td>NaN</td>\n",
              "      <td>NaN</td>\n",
              "      <td>Можно с детьми, Можно с животными</td>\n",
              "      <td>Мебель в комнатах, Мебель на кухне, Ванна, Душ...</td>\n",
              "      <td>Новый Арбат, 2010</td>\n",
              "      <td>NaN</td>\n",
              "      <td>3.0</td>\n",
              "      <td>Пасс (4), Груз (1)</td>\n",
              "      <td>Да</td>\n",
              "      <td>https://www.cian.ru/rent/flat/271271157</td>\n",
              "    </tr>\n",
              "    <tr>\n",
              "      <th>1</th>\n",
              "      <td>271634126</td>\n",
              "      <td>4</td>\n",
              "      <td>Квартира</td>\n",
              "      <td>м. Смоленская (8 мин пешком)</td>\n",
              "      <td>Москва, улица Новый Арбат, 27</td>\n",
              "      <td>198.0/95.0/18.0</td>\n",
              "      <td>5/16, Монолитно-кирпичный</td>\n",
              "      <td>подземная</td>\n",
              "      <td>500000.0 руб./ За месяц, Залог - 500000 руб., ...</td>\n",
              "      <td>+79850608590</td>\n",
              "      <td>...</td>\n",
              "      <td>На улицу и двор</td>\n",
              "      <td>Совмещенный (2), Раздельный (1)</td>\n",
              "      <td>Можно с детьми</td>\n",
              "      <td>Мебель в комнатах, Мебель на кухне, Ванна, Душ...</td>\n",
              "      <td>Новый Арбат</td>\n",
              "      <td>NaN</td>\n",
              "      <td>3.5</td>\n",
              "      <td>Пасс (1), Груз (1)</td>\n",
              "      <td>Нет</td>\n",
              "      <td>https://www.cian.ru/rent/flat/271634126</td>\n",
              "    </tr>\n",
              "  </tbody>\n",
              "</table>\n",
              "<p>2 rows × 24 columns</p>\n",
              "</div>\n",
              "      <button class=\"colab-df-convert\" onclick=\"convertToInteractive('df-509eeca9-a810-4064-880c-07d467cd47f1')\"\n",
              "              title=\"Convert this dataframe to an interactive table.\"\n",
              "              style=\"display:none;\">\n",
              "        \n",
              "  <svg xmlns=\"http://www.w3.org/2000/svg\" height=\"24px\"viewBox=\"0 0 24 24\"\n",
              "       width=\"24px\">\n",
              "    <path d=\"M0 0h24v24H0V0z\" fill=\"none\"/>\n",
              "    <path d=\"M18.56 5.44l.94 2.06.94-2.06 2.06-.94-2.06-.94-.94-2.06-.94 2.06-2.06.94zm-11 1L8.5 8.5l.94-2.06 2.06-.94-2.06-.94L8.5 2.5l-.94 2.06-2.06.94zm10 10l.94 2.06.94-2.06 2.06-.94-2.06-.94-.94-2.06-.94 2.06-2.06.94z\"/><path d=\"M17.41 7.96l-1.37-1.37c-.4-.4-.92-.59-1.43-.59-.52 0-1.04.2-1.43.59L10.3 9.45l-7.72 7.72c-.78.78-.78 2.05 0 2.83L4 21.41c.39.39.9.59 1.41.59.51 0 1.02-.2 1.41-.59l7.78-7.78 2.81-2.81c.8-.78.8-2.07 0-2.86zM5.41 20L4 18.59l7.72-7.72 1.47 1.35L5.41 20z\"/>\n",
              "  </svg>\n",
              "      </button>\n",
              "      \n",
              "  <style>\n",
              "    .colab-df-container {\n",
              "      display:flex;\n",
              "      flex-wrap:wrap;\n",
              "      gap: 12px;\n",
              "    }\n",
              "\n",
              "    .colab-df-convert {\n",
              "      background-color: #E8F0FE;\n",
              "      border: none;\n",
              "      border-radius: 50%;\n",
              "      cursor: pointer;\n",
              "      display: none;\n",
              "      fill: #1967D2;\n",
              "      height: 32px;\n",
              "      padding: 0 0 0 0;\n",
              "      width: 32px;\n",
              "    }\n",
              "\n",
              "    .colab-df-convert:hover {\n",
              "      background-color: #E2EBFA;\n",
              "      box-shadow: 0px 1px 2px rgba(60, 64, 67, 0.3), 0px 1px 3px 1px rgba(60, 64, 67, 0.15);\n",
              "      fill: #174EA6;\n",
              "    }\n",
              "\n",
              "    [theme=dark] .colab-df-convert {\n",
              "      background-color: #3B4455;\n",
              "      fill: #D2E3FC;\n",
              "    }\n",
              "\n",
              "    [theme=dark] .colab-df-convert:hover {\n",
              "      background-color: #434B5C;\n",
              "      box-shadow: 0px 1px 3px 1px rgba(0, 0, 0, 0.15);\n",
              "      filter: drop-shadow(0px 1px 2px rgba(0, 0, 0, 0.3));\n",
              "      fill: #FFFFFF;\n",
              "    }\n",
              "  </style>\n",
              "\n",
              "      <script>\n",
              "        const buttonEl =\n",
              "          document.querySelector('#df-509eeca9-a810-4064-880c-07d467cd47f1 button.colab-df-convert');\n",
              "        buttonEl.style.display =\n",
              "          google.colab.kernel.accessAllowed ? 'block' : 'none';\n",
              "\n",
              "        async function convertToInteractive(key) {\n",
              "          const element = document.querySelector('#df-509eeca9-a810-4064-880c-07d467cd47f1');\n",
              "          const dataTable =\n",
              "            await google.colab.kernel.invokeFunction('convertToInteractive',\n",
              "                                                     [key], {});\n",
              "          if (!dataTable) return;\n",
              "\n",
              "          const docLinkHtml = 'Like what you see? Visit the ' +\n",
              "            '<a target=\"_blank\" href=https://colab.research.google.com/notebooks/data_table.ipynb>data table notebook</a>'\n",
              "            + ' to learn more about interactive tables.';\n",
              "          element.innerHTML = '';\n",
              "          dataTable['output_type'] = 'display_data';\n",
              "          await google.colab.output.renderOutput(dataTable, element);\n",
              "          const docLink = document.createElement('div');\n",
              "          docLink.innerHTML = docLinkHtml;\n",
              "          element.appendChild(docLink);\n",
              "        }\n",
              "      </script>\n",
              "    </div>\n",
              "  </div>\n",
              "  "
            ]
          },
          "metadata": {},
          "execution_count": 22
        }
      ]
    },
    {
      "cell_type": "code",
      "source": [
        "df = df[df['Адрес'].str.startswith('Москва')]\n",
        "df.reset_index(inplace = True)"
      ],
      "metadata": {
        "id": "jWvXZHuLam7J"
      },
      "execution_count": 23,
      "outputs": []
    },
    {
      "cell_type": "code",
      "source": [],
      "metadata": {
        "colab": {
          "base_uri": "https://localhost:8080/",
          "height": 295
        },
        "id": "mTwceVV6dxbs",
        "outputId": "f32f35e8-49bb-4f32-a687-edd4e0306693"
      },
      "execution_count": null,
      "outputs": [
        {
          "output_type": "execute_result",
          "data": {
            "text/plain": [
              "   ID  объявления Количество комнат       Тип                         Метро  \\\n",
              "0       271271157                 4  Квартира  м. Смоленская (9 мин пешком)   \n",
              "\n",
              "                           Адрес Площадь, м2               Дом   Парковка  \\\n",
              "0  Москва, улица Новый Арбат, 27  200.0/20.0  5/16, Монолитный  подземная   \n",
              "\n",
              "                                                Цена      Телефоны  ... Окна  \\\n",
              "0  500000.0 руб./ За месяц, Залог - 500000 руб., ...  +79166369231  ...  NaN   \n",
              "\n",
              "  Санузел           Можно с детьми/животными  \\\n",
              "0     NaN  Можно с детьми, Можно с животными   \n",
              "\n",
              "                                       Дополнительно        Название ЖК  \\\n",
              "0  Мебель в комнатах, Мебель на кухне, Ванна, Душ...  Новый Арбат, 2010   \n",
              "\n",
              "  Серия дома Высота потолков, м                Лифт Мусоропровод  \\\n",
              "0        NaN                3.0  Пасс (4), Груз (1)           Да   \n",
              "\n",
              "                      Ссылка на объявление  \n",
              "0  https://www.cian.ru/rent/flat/271271157  \n",
              "\n",
              "[1 rows x 24 columns]"
            ],
            "text/html": [
              "\n",
              "  <div id=\"df-916eeaf5-6262-4301-853d-1f8467ee2543\">\n",
              "    <div class=\"colab-df-container\">\n",
              "      <div>\n",
              "<style scoped>\n",
              "    .dataframe tbody tr th:only-of-type {\n",
              "        vertical-align: middle;\n",
              "    }\n",
              "\n",
              "    .dataframe tbody tr th {\n",
              "        vertical-align: top;\n",
              "    }\n",
              "\n",
              "    .dataframe thead th {\n",
              "        text-align: right;\n",
              "    }\n",
              "</style>\n",
              "<table border=\"1\" class=\"dataframe\">\n",
              "  <thead>\n",
              "    <tr style=\"text-align: right;\">\n",
              "      <th></th>\n",
              "      <th>ID  объявления</th>\n",
              "      <th>Количество комнат</th>\n",
              "      <th>Тип</th>\n",
              "      <th>Метро</th>\n",
              "      <th>Адрес</th>\n",
              "      <th>Площадь, м2</th>\n",
              "      <th>Дом</th>\n",
              "      <th>Парковка</th>\n",
              "      <th>Цена</th>\n",
              "      <th>Телефоны</th>\n",
              "      <th>...</th>\n",
              "      <th>Окна</th>\n",
              "      <th>Санузел</th>\n",
              "      <th>Можно с детьми/животными</th>\n",
              "      <th>Дополнительно</th>\n",
              "      <th>Название ЖК</th>\n",
              "      <th>Серия дома</th>\n",
              "      <th>Высота потолков, м</th>\n",
              "      <th>Лифт</th>\n",
              "      <th>Мусоропровод</th>\n",
              "      <th>Ссылка на объявление</th>\n",
              "    </tr>\n",
              "  </thead>\n",
              "  <tbody>\n",
              "    <tr>\n",
              "      <th>0</th>\n",
              "      <td>271271157</td>\n",
              "      <td>4</td>\n",
              "      <td>Квартира</td>\n",
              "      <td>м. Смоленская (9 мин пешком)</td>\n",
              "      <td>Москва, улица Новый Арбат, 27</td>\n",
              "      <td>200.0/20.0</td>\n",
              "      <td>5/16, Монолитный</td>\n",
              "      <td>подземная</td>\n",
              "      <td>500000.0 руб./ За месяц, Залог - 500000 руб., ...</td>\n",
              "      <td>+79166369231</td>\n",
              "      <td>...</td>\n",
              "      <td>NaN</td>\n",
              "      <td>NaN</td>\n",
              "      <td>Можно с детьми, Можно с животными</td>\n",
              "      <td>Мебель в комнатах, Мебель на кухне, Ванна, Душ...</td>\n",
              "      <td>Новый Арбат, 2010</td>\n",
              "      <td>NaN</td>\n",
              "      <td>3.0</td>\n",
              "      <td>Пасс (4), Груз (1)</td>\n",
              "      <td>Да</td>\n",
              "      <td>https://www.cian.ru/rent/flat/271271157</td>\n",
              "    </tr>\n",
              "  </tbody>\n",
              "</table>\n",
              "<p>1 rows × 24 columns</p>\n",
              "</div>\n",
              "      <button class=\"colab-df-convert\" onclick=\"convertToInteractive('df-916eeaf5-6262-4301-853d-1f8467ee2543')\"\n",
              "              title=\"Convert this dataframe to an interactive table.\"\n",
              "              style=\"display:none;\">\n",
              "        \n",
              "  <svg xmlns=\"http://www.w3.org/2000/svg\" height=\"24px\"viewBox=\"0 0 24 24\"\n",
              "       width=\"24px\">\n",
              "    <path d=\"M0 0h24v24H0V0z\" fill=\"none\"/>\n",
              "    <path d=\"M18.56 5.44l.94 2.06.94-2.06 2.06-.94-2.06-.94-.94-2.06-.94 2.06-2.06.94zm-11 1L8.5 8.5l.94-2.06 2.06-.94-2.06-.94L8.5 2.5l-.94 2.06-2.06.94zm10 10l.94 2.06.94-2.06 2.06-.94-2.06-.94-.94-2.06-.94 2.06-2.06.94z\"/><path d=\"M17.41 7.96l-1.37-1.37c-.4-.4-.92-.59-1.43-.59-.52 0-1.04.2-1.43.59L10.3 9.45l-7.72 7.72c-.78.78-.78 2.05 0 2.83L4 21.41c.39.39.9.59 1.41.59.51 0 1.02-.2 1.41-.59l7.78-7.78 2.81-2.81c.8-.78.8-2.07 0-2.86zM5.41 20L4 18.59l7.72-7.72 1.47 1.35L5.41 20z\"/>\n",
              "  </svg>\n",
              "      </button>\n",
              "      \n",
              "  <style>\n",
              "    .colab-df-container {\n",
              "      display:flex;\n",
              "      flex-wrap:wrap;\n",
              "      gap: 12px;\n",
              "    }\n",
              "\n",
              "    .colab-df-convert {\n",
              "      background-color: #E8F0FE;\n",
              "      border: none;\n",
              "      border-radius: 50%;\n",
              "      cursor: pointer;\n",
              "      display: none;\n",
              "      fill: #1967D2;\n",
              "      height: 32px;\n",
              "      padding: 0 0 0 0;\n",
              "      width: 32px;\n",
              "    }\n",
              "\n",
              "    .colab-df-convert:hover {\n",
              "      background-color: #E2EBFA;\n",
              "      box-shadow: 0px 1px 2px rgba(60, 64, 67, 0.3), 0px 1px 3px 1px rgba(60, 64, 67, 0.15);\n",
              "      fill: #174EA6;\n",
              "    }\n",
              "\n",
              "    [theme=dark] .colab-df-convert {\n",
              "      background-color: #3B4455;\n",
              "      fill: #D2E3FC;\n",
              "    }\n",
              "\n",
              "    [theme=dark] .colab-df-convert:hover {\n",
              "      background-color: #434B5C;\n",
              "      box-shadow: 0px 1px 3px 1px rgba(0, 0, 0, 0.15);\n",
              "      filter: drop-shadow(0px 1px 2px rgba(0, 0, 0, 0.3));\n",
              "      fill: #FFFFFF;\n",
              "    }\n",
              "  </style>\n",
              "\n",
              "      <script>\n",
              "        const buttonEl =\n",
              "          document.querySelector('#df-916eeaf5-6262-4301-853d-1f8467ee2543 button.colab-df-convert');\n",
              "        buttonEl.style.display =\n",
              "          google.colab.kernel.accessAllowed ? 'block' : 'none';\n",
              "\n",
              "        async function convertToInteractive(key) {\n",
              "          const element = document.querySelector('#df-916eeaf5-6262-4301-853d-1f8467ee2543');\n",
              "          const dataTable =\n",
              "            await google.colab.kernel.invokeFunction('convertToInteractive',\n",
              "                                                     [key], {});\n",
              "          if (!dataTable) return;\n",
              "\n",
              "          const docLinkHtml = 'Like what you see? Visit the ' +\n",
              "            '<a target=\"_blank\" href=https://colab.research.google.com/notebooks/data_table.ipynb>data table notebook</a>'\n",
              "            + ' to learn more about interactive tables.';\n",
              "          element.innerHTML = '';\n",
              "          dataTable['output_type'] = 'display_data';\n",
              "          await google.colab.output.renderOutput(dataTable, element);\n",
              "          const docLink = document.createElement('div');\n",
              "          docLink.innerHTML = docLinkHtml;\n",
              "          element.appendChild(docLink);\n",
              "        }\n",
              "      </script>\n",
              "    </div>\n",
              "  </div>\n",
              "  "
            ]
          },
          "metadata": {},
          "execution_count": 4
        }
      ]
    },
    {
      "cell_type": "code",
      "source": [],
      "metadata": {
        "id": "JFIciIYcwcDT"
      },
      "execution_count": null,
      "outputs": []
    },
    {
      "cell_type": "code",
      "source": [
        "# Сохраняем датасет без региональных объявлений\n",
        "df.to_csv('data_cleaned.csv')"
      ],
      "metadata": {
        "id": "6Xf5PiFNdzYT"
      },
      "execution_count": 24,
      "outputs": []
    },
    {
      "cell_type": "markdown",
      "source": [
        "ID"
      ],
      "metadata": {
        "id": "BRrDVOuQZwXj"
      }
    },
    {
      "cell_type": "code",
      "source": [
        "#переименовали колонку с ID объявления, Тип\n",
        "df.rename({'ID  объявления': 'ID', 'Тип': 'Type'}, axis='columns')"
      ],
      "metadata": {
        "id": "AbRmHDBYiGUc"
      },
      "execution_count": null,
      "outputs": []
    },
    {
      "cell_type": "markdown",
      "source": [
        "Количество комнат"
      ],
      "metadata": {
        "id": "WsmXPIsVZ3z_"
      }
    },
    {
      "cell_type": "code",
      "source": [
        "# Обрабатываем колонку с количеством комнат, разделяем на число комнат, планировка. number_of_rooms, rooms_plan  \n",
        "df[['number_of_rooms','rooms_plan']] = df['Количество комнат'].apply(lambda x: pd.Series(str(x).split(\", \")))\n",
        "# Заполняем нан в  number_of_rooms, rooms_plan\n",
        "max_room_count = int(df['number_of_rooms'].value_counts(dropna = False).idxmax())\n",
        "df['number_of_rooms'] = df['number_of_rooms'].map(lambda x: max_room_count if  x == 'nan' else x)\n",
        "df['rooms_plan'] = df['rooms_plan'].map(lambda x:  x if  x == x else 'Неизвестно')"
      ],
      "metadata": {
        "id": "FxCX4pvXvfcY"
      },
      "execution_count": null,
      "outputs": []
    },
    {
      "cell_type": "markdown",
      "source": [
        "Площадь квартиры"
      ],
      "metadata": {
        "id": "1v_bN9IWZ_zr"
      }
    },
    {
      "cell_type": "code",
      "source": [
        "# Обрабатываем колонку с площадью квартиры, берём только общую площадь\n",
        "df['flat_area'] = [row.split('/')[0] for row in df['Площадь, м2']]\n",
        "#потом  дроп старой колонки "
      ],
      "metadata": {
        "id": "Eombg0k-wdNg"
      },
      "execution_count": null,
      "outputs": []
    },
    {
      "cell_type": "markdown",
      "source": [
        "Дом (этаж,этажность тип)"
      ],
      "metadata": {
        "id": "yyct3oXBaHh9"
      }
    },
    {
      "cell_type": "code",
      "source": [
        "#Дом. разбиваем колонку. flat_floor,max_floor,house_type\n",
        "df['flat_floor'] = [int(row.split('/')[0]) for row in df['Дом']]\n",
        "df['max_floor'] = [int(row.split('/')[1].split(',')[0]) for row in df['Дом']]\n",
        "df['house_type'] = [row.split(', ')[-1] if len(row.split(', ')[-1]) > 6 else 'Неизвестно' for row in df['Дом']]\n",
        "#а потом дропнем  старый Дом)))# df = df.drop(['Дом'], axis = 1)\n"
      ],
      "metadata": {
        "id": "Axg8qCKFwdV3"
      },
      "execution_count": null,
      "outputs": []
    },
    {
      "cell_type": "code",
      "source": [
        "# дропнуть Площадь комнат"
      ],
      "metadata": {
        "id": "qMd6zqVWwdZD"
      },
      "execution_count": null,
      "outputs": []
    },
    {
      "cell_type": "markdown",
      "source": [
        "# Лена"
      ],
      "metadata": {
        "id": "z43iGm4EXcFH"
      }
    },
    {
      "cell_type": "markdown",
      "source": [
        "# Телефоны"
      ],
      "metadata": {
        "id": "rQI-Pe6hXgJp"
      }
    },
    {
      "cell_type": "code",
      "source": [
        "# Разделяем телефоны на два столбца, чтоб проще проводить фильтрацию\n",
        "df['phone_1'] = 0\n",
        "df['phone_2'] = 0\n",
        "for index in range(len(df)):\n",
        "    phones = df['Телефоны'][index].split(',')\n",
        "    df['phone_1'][index] = phones[0]\n",
        "    if len(phones)==2:\n",
        "        df['phone_2'][index] = phones[1] \n",
        "    else:\n",
        "        continue"
      ],
      "metadata": {
        "id": "tyhpT91Xwdbz"
      },
      "execution_count": null,
      "outputs": []
    },
    {
      "cell_type": "code",
      "source": [],
      "metadata": {
        "id": "4_-hN5SRwdfJ"
      },
      "execution_count": null,
      "outputs": []
    },
    {
      "cell_type": "markdown",
      "source": [
        "#Балконы"
      ],
      "metadata": {
        "id": "9YrGY-sXXkN0"
      }
    },
    {
      "cell_type": "code",
      "source": [
        "# Заменяем все значения Nan на 0, т.к. отсутсвие данных скорее всего говорит об отсуствие балкона\n",
        "df['Балкон'].fillna(0, inplace =True) \n",
        "\n",
        "# создаем новые столбцы, куда будме вносить данные по количеству балконов в зависимости от их типа\n",
        "df['Balcony'] = 0\n",
        "df['Loggia'] = 0\n",
        "df['No_balcony'] = 0\n",
        "\n",
        "# заполняем  столбцы в зависимости\n",
        "for index in range(len(df)):\n",
        "    \n",
        "    if df[\"Балкон\"][index] !=0:\n",
        "        \n",
        "        if 'Балкон' in df[\"Балкон\"][index] and 'Лоджия' in df[\"Балкон\"][index]: # проверка на оба типа\n",
        "            df['Balcony'][index] = df[\"Балкон\"][index].split(', ')[0].split(' ')[1].replace('(', '').replace(')','')\n",
        "            df['Loggia'][index] = df[\"Балкон\"][index].split(', ')[1].split(' ')[1].replace('(', '').replace(')','')\n",
        "        \n",
        "        elif 'Балкон' in df[\"Балкон\"][index]:\n",
        "            df['Elevator_pass'][index]=df[\"Балкон\"][index].split(' ')[1].replace('(', '').replace(')','')\n",
        "        \n",
        "        elif 'Лоджия' in df[\"Балкон\"][index]:\n",
        "            df['Loggia'][index]=df[\"Балкон\"][index].split(' ')[1].replace('(', '').replace(')','')\n",
        "    \n",
        "    else:\n",
        "        df['No_balcony'][index] = 1"
      ],
      "metadata": {
        "id": "oA19-Pezwdh6"
      },
      "execution_count": null,
      "outputs": []
    },
    {
      "cell_type": "code",
      "source": [
        "# дропнуть \"Балкон\""
      ],
      "metadata": {
        "id": "b1i8MuSXXnDQ"
      },
      "execution_count": null,
      "outputs": []
    },
    {
      "cell_type": "markdown",
      "source": [
        "# Высота потолков"
      ],
      "metadata": {
        "id": "hIplw7ldYqzM"
      }
    },
    {
      "cell_type": "code",
      "source": [
        "false_ceil = df['Высота потолков, м'][df['Высота потолков, м'] > 5]\n",
        "false_ceil\n",
        "# из всех \"ошибочных\" значений, все подчиняются закономерности (трехзначные цифры в мм, двухзначные в см, \n",
        "# остальное просто высокие потолки *звуки зависти*), кроме одного значения с индексом 6016"
      ],
      "metadata": {
        "id": "ULCQaMStXnF0"
      },
      "execution_count": null,
      "outputs": []
    },
    {
      "cell_type": "code",
      "source": [
        "df.loc[6016]\n",
        "# изучив объявление (по ссылке), делаем вывод, что скорее всего опечатка\n",
        "df.loc[6016]['Высота потолков, м'] = 2.8\n",
        "df['Ceiling_height'] = 0\n",
        "for index in range(len(df)):\n",
        "    try:\n",
        "        if 20<=round(df[\"Высота потолков, м\"][index])<=99:\n",
        "            df['Ceiling_height'][index] = df[\"Высота потолков, м\"][index]/10\n",
        "        elif round(df[\"Высота потолков, м\"][index])>99:\n",
        "            df['Ceiling_height'][index] = df[\"Высота потолков, м\"][index]/100\n",
        "        else:\n",
        "            df['Ceiling_height'][index] = df[\"Высота потолков, м\"][index]\n",
        "    except ValueError:\n",
        "        df['Ceiling_height'][index] = df['Высота потолков, м'].median()"
      ],
      "metadata": {
        "id": "3bqsLgvhXnH4"
      },
      "execution_count": null,
      "outputs": []
    },
    {
      "cell_type": "code",
      "source": [
        "# дропнуть высоту потолков"
      ],
      "metadata": {
        "id": "hWbmJ6wWXnKS"
      },
      "execution_count": null,
      "outputs": []
    },
    {
      "cell_type": "markdown",
      "source": [
        "# Мусоропровод"
      ],
      "metadata": {
        "id": "aNsJWJYagQsI"
      }
    },
    {
      "cell_type": "code",
      "source": [
        "# скорее всего отсутствие информации говорит об отсуствии предмета\n",
        "df['Мусоропровод'].fillna('Нет')"
      ],
      "metadata": {
        "id": "LHIxElnWgTO9"
      },
      "execution_count": null,
      "outputs": []
    },
    {
      "cell_type": "markdown",
      "source": [
        "# Егор"
      ],
      "metadata": {
        "id": "c8qZQIOm3Ftw"
      }
    },
    {
      "cell_type": "markdown",
      "source": [
        "## Чищу Метро\n",
        "\n",
        "PS раскомментировать мои можно ctrl+k+c"
      ],
      "metadata": {
        "id": "MBkgvktR3WXi"
      }
    },
    {
      "cell_type": "code",
      "source": [
        "df['Метро'].fillna('a (b c', inplace = True)\n",
        "df['Метро'] = df['Метро'].str.replace(')', '').str.split('(')"
      ],
      "metadata": {
        "id": "kvbOL5MLwdku",
        "colab": {
          "base_uri": "https://localhost:8080/"
        },
        "outputId": "6d9cc57a-84a9-46f2-b6de-9da7f55a071d"
      },
      "execution_count": null,
      "outputs": [
        {
          "output_type": "stream",
          "name": "stderr",
          "text": [
            "<ipython-input-10-40a2f54eeecd>:2: FutureWarning: The default value of regex will change from True to False in a future version. In addition, single character regular expressions will *not* be treated as literal strings when regex=True.\n",
            "  df['Метро'] = df['Метро'].str.replace(')', '').str.split('(')\n"
          ]
        }
      ]
    },
    {
      "cell_type": "code",
      "source": [
        "df_metro = pd.DataFrame(df[\"Метро\"].to_list(), columns=['Station', 'Time1'])\n",
        "df_metro[\"Time1\"] = df_metro[\"Time1\"].str.split(' ', 1)\n",
        "\n",
        "df_metro_1 = pd.DataFrame(df_metro[\"Time1\"].to_list(), columns=['Time', 'Vehicle'])"
      ],
      "metadata": {
        "id": "I66wkcfJ3NwP"
      },
      "execution_count": null,
      "outputs": []
    },
    {
      "cell_type": "code",
      "source": [
        "df_metro = pd.concat([df_metro, df_metro_1], axis = 1)\n",
        "df_metro.drop('Time1', axis = 1, inplace = True)\n",
        "df_metro['Time'].replace('None', 'b', inplace = True)"
      ],
      "metadata": {
        "id": "HjaYg8LE3OSt"
      },
      "execution_count": null,
      "outputs": []
    },
    {
      "cell_type": "markdown",
      "source": [
        "## Чищу Цену "
      ],
      "metadata": {
        "id": "zzfQZhp74OPb"
      }
    },
    {
      "cell_type": "code",
      "source": [
        "price = df['Цена']\n",
        "splt = price.apply(lambda x: x.split(','))\n",
        "rent = price.apply(lambda x: x.split(',')[0]).apply(lambda x: float(''.join(\n",
        "    re.findall(\"\\d+\\.\\d+\", x))))\n",
        "\n",
        "deposit = price.apply(lambda x: x.split(',')[1]).apply(lambda x: ''.join(re.findall(\"\\d+\", x))).apply(\n",
        "                    lambda x: float(x) if x != '' else 0)"
      ],
      "metadata": {
        "id": "1vOjHpM73hJz"
      },
      "execution_count": null,
      "outputs": []
    },
    {
      "cell_type": "code",
      "source": [
        "rent.rename('Rent', inplace = True)\n",
        "deposit.rename('Deposit', inplace = True)\n",
        "price_df = pd.concat([rent, deposit], axis = 1)"
      ],
      "metadata": {
        "id": "A03UEmtg4NPf"
      },
      "execution_count": null,
      "outputs": []
    },
    {
      "cell_type": "markdown",
      "source": [
        "## Чищу Дети/Животные "
      ],
      "metadata": {
        "id": "xD7LREwZ4qto"
      }
    },
    {
      "cell_type": "code",
      "source": [
        "anchil_df = pd.get_dummies(df['Можно с детьми/животными'])\n",
        "\n",
        "anchil_df.rename(columns = {'Можно с детьми' : 'Children', 'Можно с детьми, Можно с животными' :\n",
        "                  'Children_Animals', 'Можно с животными' : 'Animals'}, inplace = True)"
      ],
      "metadata": {
        "id": "ooPnMknj4alq"
      },
      "execution_count": null,
      "outputs": []
    },
    {
      "cell_type": "markdown",
      "source": [
        "## Чищу Дополнительно  "
      ],
      "metadata": {
        "id": "zaX4hXF-7smT"
      }
    },
    {
      "cell_type": "code",
      "source": [
        "dop_df = df['Дополнительно'].apply(lambda x: x.split(', ') if x == x else x).fillna('d')\n",
        "dop_df = pd.get_dummies(dop_df.apply(pd.Series).stack()).sum(level=0)\n",
        "dop_df.rename(columns = ({'d' : 'NaN', 'Ванна' : 'Bathtab', 'Душевая кабина' : 'Shower Cabin',\n",
        "                         'Интернет' : 'Internet', 'Кондиционер' : 'Air Conditioner', 'Мебель в комнатах' : \n",
        "                         'Furniture Rooms', 'Мебель на кухне' : 'Furniture Kitchen',\n",
        "                         'Посудомоечная машина' : 'Dishwasher', 'Стиральная машина' : 'Washing Machine',\n",
        "                         'Телевизор' : 'TV', 'Телефон' : 'Telephone', 'Холодильник' : 'Fridge'}),\n",
        "              inplace = True)"
      ],
      "metadata": {
        "id": "EpB1-a5t7y3e",
        "colab": {
          "base_uri": "https://localhost:8080/"
        },
        "outputId": "b53ce488-dfc2-4556-ba95-5e5cdf25595c"
      },
      "execution_count": null,
      "outputs": [
        {
          "output_type": "stream",
          "name": "stderr",
          "text": [
            "<ipython-input-16-abedec94e8a2>:2: FutureWarning: Using the level keyword in DataFrame and Series aggregations is deprecated and will be removed in a future version. Use groupby instead. df.sum(level=1) should use df.groupby(level=1).sum().\n",
            "  dop_df = pd.get_dummies(dop_df.apply(pd.Series).stack()).sum(level=0)\n"
          ]
        }
      ]
    },
    {
      "cell_type": "markdown",
      "source": [
        "## Чищу Санузел))\n"
      ],
      "metadata": {
        "id": "wJhX6dS-OrLh"
      }
    },
    {
      "cell_type": "code",
      "source": [
        "toil = df['Санузел']\n",
        "toil_df = toil.str.split(',')\n",
        "toil_df.fillna('e', inplace = True)\n",
        "toil_df = pd.get_dummies(toil_df.apply(pd.Series).stack()).sum(level=0)"
      ],
      "metadata": {
        "id": "KTi4f9nG4t8r",
        "colab": {
          "base_uri": "https://localhost:8080/"
        },
        "outputId": "a78c7c71-cc09-40a2-cee1-9b8ec78353b9"
      },
      "execution_count": null,
      "outputs": [
        {
          "output_type": "stream",
          "name": "stderr",
          "text": [
            "<ipython-input-17-ce737d261657>:4: FutureWarning: Using the level keyword in DataFrame and Series aggregations is deprecated and will be removed in a future version. Use groupby instead. df.sum(level=1) should use df.groupby(level=1).sum().\n",
            "  toil_df = pd.get_dummies(toil_df.apply(pd.Series).stack()).sum(level=0)\n"
          ]
        }
      ]
    },
    {
      "cell_type": "code",
      "source": [
        "al = toil_df.filter(like='Раздельный (1)')\n",
        "be = toil_df.filter(like='Раздельный (2)')\n",
        "ga = toil_df.filter(like='Раздельный (3)')\n",
        "de = toil_df.filter(like='Раздельный (4)')\n",
        "\n",
        "sep_1 = pd.Series(al.iloc[:, 0] | al.iloc[:, 1], name = 'Sep_Toil_1')\n",
        "sep_2 = pd.Series(be.iloc[:, 0] | be.iloc[:, 1], name = 'Sep_Toil_2')\n",
        "sep_3 = pd.Series(ga.iloc[:, 0] | ga.iloc[:, 1], name = 'Sep_Toil_3')\n",
        "sep_4 = pd.Series(de.iloc[:, 0] | de.iloc[:, 1], name = 'Sep_Toil_4')"
      ],
      "metadata": {
        "id": "hbhH0ffyO0gq"
      },
      "execution_count": null,
      "outputs": []
    },
    {
      "cell_type": "code",
      "source": [
        "answer = pd.concat([sep_1, sep_2, sep_3, sep_4, toil_df['e'], toil_df.loc[:, 'Совмещенный (1)':]], axis = 1)\n",
        "answer.rename(columns = ({'Совмещенный (1)' : 'Comb_Toil_1', 'Совмещенный (2)' : 'Comb_Toil_2',\n",
        "                          'Совмещенный (3)' : 'Comb_Toil_3', 'Совмещенный (4)' : 'Comb_Toil_4',\n",
        "                         'e' : 'No Description'}), inplace = True)"
      ],
      "metadata": {
        "id": "hxQFTAOjO6py"
      },
      "execution_count": null,
      "outputs": []
    },
    {
      "cell_type": "code",
      "source": [],
      "metadata": {
        "id": "GbZc1T7RdyWL"
      },
      "execution_count": null,
      "outputs": []
    }
  ]
}